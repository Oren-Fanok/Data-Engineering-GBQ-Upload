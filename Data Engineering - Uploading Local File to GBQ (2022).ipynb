{
 "cells": [
  {
   "cell_type": "markdown",
   "id": "25b450e8",
   "metadata": {},
   "source": [
    "# Data Engineering - Uploading Local File to GBQ"
   ]
  },
  {
   "cell_type": "code",
   "execution_count": 26,
   "id": "d5d503d8",
   "metadata": {},
   "outputs": [],
   "source": [
    "import os\n",
    "import re\n",
    "import datetime \n",
    "\n",
    "import pandas as pd\n",
    "import numpy as np\n",
    "import matplotlib.pyplot as plt\n",
    "import pandas_gbq\n",
    "import janitor\n",
    "\n",
    "# Do our imports for the code\n",
    "from google.cloud import bigquery\n",
    "from google.oauth2 import service_account"
   ]
  },
  {
   "cell_type": "markdown",
   "id": "3813e659",
   "metadata": {},
   "source": [
    "### GBQ Set Up\n",
    "\n",
    "In this next section I'll connect to my GBQ project and list the data sets inside to test the connection."
   ]
  },
  {
   "cell_type": "code",
   "execution_count": 27,
   "id": "d825198a",
   "metadata": {},
   "outputs": [],
   "source": [
    "# These first two values will be different on your machine. \n",
    "service_path = \"\"  # change this to your file path\n",
    "service_file = '' # change this to your authentication information  \n",
    "gbq_proj_id = '' # change this to your project. \n",
    "\n",
    "# And this should stay the same. \n",
    "private_key =service_path + service_file"
   ]
  },
  {
   "cell_type": "code",
   "execution_count": 28,
   "id": "ca232504",
   "metadata": {},
   "outputs": [],
   "source": [
    "# Now we pass in our credentials so that Python has permission to access our project.\n",
    "credentials = service_account.Credentials.from_service_account_file(service_path + service_file)"
   ]
  },
  {
   "cell_type": "code",
   "execution_count": 29,
   "id": "c4a6d11c",
   "metadata": {},
   "outputs": [],
   "source": [
    "# And finally we establish our connection\n",
    "client = bigquery.Client(credentials = credentials, project=gbq_proj_id)"
   ]
  },
  {
   "cell_type": "code",
   "execution_count": 30,
   "id": "86fa696d",
   "metadata": {},
   "outputs": [
    {
     "name": "stdout",
     "output_type": "stream",
     "text": [
      "msba-project-2022:dram_shop\n",
      "msba-project-2022:wedge_dataset\n"
     ]
    }
   ],
   "source": [
    "for item in client.list_datasets() : \n",
    "    print(item.full_dataset_id)"
   ]
  },
  {
   "cell_type": "markdown",
   "id": "08e1e74c",
   "metadata": {},
   "source": [
    "# Checking for Existing Table\n",
    "\n",
    "To make sure the data funnel is idempotent, I'll check my project in GBQ for tables that match the required table id, and delete if necessary to avoid duplicates."
   ]
  },
  {
   "cell_type": "code",
   "execution_count": 31,
   "id": "b57a0e13",
   "metadata": {},
   "outputs": [
    {
     "name": "stdout",
     "output_type": "stream",
     "text": [
      "msba-project-2022.dram_shop.dram_items_2022\n",
      "msba-project-2022.dram_shop.dram_items_2022\n",
      "msba-project-2022.dram_shop.dram_items_2022\n",
      "msba-project-2022.dram_shop.dram_items_2022\n"
     ]
    }
   ],
   "source": [
    "# Your code here\n",
    "\n",
    "table_name = 'dram_items_2022'\n",
    "#first let's check if the table exists\n",
    "\n",
    "dataset_name = 'dram_shop'\n",
    "\n",
    "table_list = client.list_tables(dataset_name)\n",
    "\n",
    "#now write a loop to iterate over all the values in table_list\n",
    "#print out the results (tables), if dram_items_2022 is in the result we know it exists.\n",
    "\n",
    "for table in table_list:\n",
    "    print(table_id)\n",
    "\n",
    "\n"
   ]
  },
  {
   "cell_type": "code",
   "execution_count": 32,
   "id": "93b7fef0",
   "metadata": {},
   "outputs": [
    {
     "name": "stdout",
     "output_type": "stream",
     "text": [
      "msba-project-2022.dram_shop.dram_items_2022\n",
      "Deleted msba-project-2022.dram_shop.dram_items_2022.\n"
     ]
    }
   ],
   "source": [
    "## delete table to keep this function idempotent here (still need to assign table name)\n",
    "\n",
    "#the next two lines create my table id in gbq format\n",
    "table_id = \".\".join([gbq_proj_id,dataset_name,table_name])\n",
    "\n",
    "print(table_id)\n",
    "\n",
    "#this line deletes my table out of gbq if it exists\n",
    "\n",
    "client.delete_table(table_id, not_found_ok=True)\n",
    "\n",
    "print(f\"Deleted {table_id}.\")"
   ]
  },
  {
   "cell_type": "markdown",
   "id": "129b9631",
   "metadata": {},
   "source": [
    "# Reading in Local Data\n"
   ]
  },
  {
   "cell_type": "code",
   "execution_count": 33,
   "id": "0a54dc09",
   "metadata": {
    "scrolled": true
   },
   "outputs": [
    {
     "name": "stderr",
     "output_type": "stream",
     "text": [
      "/var/folders/2x/4hk6jhf96_q696_2h9d_fstw0000gp/T/ipykernel_2267/3835684965.py:3: DtypeWarning: Columns (7) have mixed types. Specify dtype option on import or set low_memory=False.\n",
      "  dramitems_df = pd.read_csv('items-2022-01-01-2022-10-01.csv')\n"
     ]
    }
   ],
   "source": [
    "#First I need to read in the file, using the pandas function creates a dataframe for me.\n",
    "\n",
    "dramitems_df = pd.read_csv('items-2022-01-01-2022-10-01.csv')\n",
    "#print(dramitems_df)\n",
    "\n",
    "\n"
   ]
  },
  {
   "cell_type": "code",
   "execution_count": 34,
   "id": "82d8467b",
   "metadata": {
    "scrolled": false
   },
   "outputs": [
    {
     "data": {
      "text/plain": [
       "Date                      object\n",
       "Time                      object\n",
       "Time Zone                 object\n",
       "Category                  object\n",
       "Item                      object\n",
       "Qty                        int64\n",
       "Price Point Name          object\n",
       "SKU                       object\n",
       "Modifiers Applied        float64\n",
       "Gross Sales               object\n",
       "Discounts                 object\n",
       "Net Sales                 object\n",
       "Tax                       object\n",
       "Transaction ID            object\n",
       "Payment ID                object\n",
       "Device Name               object\n",
       "Notes                     object\n",
       "Details                   object\n",
       "Event Type                object\n",
       "Location                  object\n",
       "Dining Option            float64\n",
       "Customer ID               object\n",
       "Customer Name             object\n",
       "Customer Reference ID     object\n",
       "Unit                      object\n",
       "Count                      int64\n",
       "Itemization Type          object\n",
       "dtype: object"
      ]
     },
     "execution_count": 34,
     "metadata": {},
     "output_type": "execute_result"
    }
   ],
   "source": [
    "#show us the data types of columns above (objects)\n",
    "dramitems_df.dtypes"
   ]
  },
  {
   "cell_type": "markdown",
   "id": "4e4b440e",
   "metadata": {},
   "source": [
    "# Formatting the Data"
   ]
  },
  {
   "cell_type": "code",
   "execution_count": 35,
   "id": "d750fbea",
   "metadata": {
    "scrolled": false
   },
   "outputs": [
    {
     "name": "stderr",
     "output_type": "stream",
     "text": [
      "/var/folders/2x/4hk6jhf96_q696_2h9d_fstw0000gp/T/ipykernel_2267/2369041351.py:2: FutureWarning: The default value of regex will change from True to False in a future version. In addition, single character regular expressions will *not* be treated as literal strings when regex=True.\n",
      "  dramitems_df['Gross Sales'] = dramitems_df[\"Gross Sales\"].str.replace('$', '').str.replace(',','')\n",
      "/var/folders/2x/4hk6jhf96_q696_2h9d_fstw0000gp/T/ipykernel_2267/2369041351.py:5: FutureWarning: The default value of regex will change from True to False in a future version. In addition, single character regular expressions will *not* be treated as literal strings when regex=True.\n",
      "  dramitems_df['Discounts'] = dramitems_df[\"Discounts\"].str.replace('$', '').str.replace(',','')\n",
      "/var/folders/2x/4hk6jhf96_q696_2h9d_fstw0000gp/T/ipykernel_2267/2369041351.py:8: FutureWarning: The default value of regex will change from True to False in a future version. In addition, single character regular expressions will *not* be treated as literal strings when regex=True.\n",
      "  dramitems_df['Net Sales'] = dramitems_df[\"Net Sales\"].str.replace('$', '').str.replace(',','')\n",
      "/var/folders/2x/4hk6jhf96_q696_2h9d_fstw0000gp/T/ipykernel_2267/2369041351.py:11: FutureWarning: The default value of regex will change from True to False in a future version. In addition, single character regular expressions will *not* be treated as literal strings when regex=True.\n",
      "  dramitems_df['Tax'] = dramitems_df[\"Tax\"].str.replace('$', '').str.replace(',','')\n"
     ]
    }
   ],
   "source": [
    "#first change dollar sign fields to numeric (gross sales, discount, net sales, tax)\n",
    "dramitems_df['Gross Sales'] = dramitems_df[\"Gross Sales\"].str.replace('$', '').str.replace(',','')\n",
    "dramitems_df['Gross Sales'] = pd.to_numeric(dramitems_df['Gross Sales'])\n",
    "\n",
    "dramitems_df['Discounts'] = dramitems_df[\"Discounts\"].str.replace('$', '').str.replace(',','')\n",
    "dramitems_df['Discounts'] = pd.to_numeric(dramitems_df['Discounts'])\n",
    "\n",
    "dramitems_df['Net Sales'] = dramitems_df[\"Net Sales\"].str.replace('$', '').str.replace(',','')\n",
    "dramitems_df['Net Sales'] = pd.to_numeric(dramitems_df['Net Sales'])\n",
    "\n",
    "dramitems_df['Tax'] = dramitems_df[\"Tax\"].str.replace('$', '').str.replace(',','')\n",
    "dramitems_df['Tax'] = pd.to_numeric(dramitems_df['Tax'])"
   ]
  },
  {
   "cell_type": "code",
   "execution_count": 36,
   "id": "d2c67c6f",
   "metadata": {},
   "outputs": [],
   "source": [
    "# Now change modifiiers applies float 64 to string\n",
    "\n",
    "dramitems_df['Modifiers Applied'] = dramitems_df['Modifiers Applied'].astype('str')"
   ]
  },
  {
   "cell_type": "code",
   "execution_count": 37,
   "id": "937c47fa",
   "metadata": {},
   "outputs": [],
   "source": [
    "## now fill sku with empty strings\n",
    "dramitems_df['SKU'] = dramitems_df['SKU'].replace(np.nan, '', regex=True)\n"
   ]
  },
  {
   "cell_type": "code",
   "execution_count": 38,
   "id": "64e60e85",
   "metadata": {},
   "outputs": [],
   "source": [
    "#Clean up the names with py janitor final step\n",
    "\n",
    "dramitems_clean = janitor.clean_names(dramitems_df)"
   ]
  },
  {
   "cell_type": "markdown",
   "id": "176e465a",
   "metadata": {},
   "source": [
    "# Upoading to GBQ"
   ]
  },
  {
   "cell_type": "code",
   "execution_count": 40,
   "id": "cff4b235",
   "metadata": {},
   "outputs": [
    {
     "name": "stderr",
     "output_type": "stream",
     "text": [
      "100%|███████████████████████████████████████████| 1/1 [00:00<00:00, 2949.58it/s]\n"
     ]
    }
   ],
   "source": [
    "pandas_gbq.to_gbq(dramitems_clean,table_id,project_id=gbq_proj_id,if_exists=\"replace\")\n",
    "\n",
    "\n",
    "\n"
   ]
  },
  {
   "cell_type": "markdown",
   "id": "181004b7",
   "metadata": {},
   "source": [
    "# Querying our Data"
   ]
  },
  {
   "cell_type": "code",
   "execution_count": 41,
   "id": "fd1d675c",
   "metadata": {},
   "outputs": [
    {
     "name": "stdout",
     "output_type": "stream",
     "text": [
      "There were 110836 rows.\n"
     ]
    }
   ],
   "source": [
    "# Your code here \n",
    "\n",
    "query = \"\"\"\n",
    "    SELECT COUNT(*)\n",
    "    FROM `msba-project-2022.dram_shop.dram_items_2022`\n",
    "\"\"\"\n",
    "\n",
    "results = client.query(query)\n",
    "\n",
    "\n",
    "for row in results :\n",
    "    print(f'There were {row[0]} rows.')\n"
   ]
  },
  {
   "cell_type": "markdown",
   "id": "2e082246",
   "metadata": {},
   "source": [
    "# Querying to Dataframe"
   ]
  },
  {
   "cell_type": "code",
   "execution_count": 42,
   "id": "9b8694d1",
   "metadata": {},
   "outputs": [
    {
     "name": "stdout",
     "output_type": "stream",
     "text": [
      "Downloading: 100%|\u001b[32m█████████████████████████████████████████████████████████████\u001b[0m|\u001b[0m\n"
     ]
    }
   ],
   "source": [
    "# Your code here \n",
    "\n",
    "query = \"\"\"\n",
    "    SELECT customer_name, customer_id, SUM(gross_sales) AS gross_sales\n",
    "    FROM `msba-project-2022.dram_shop.dram_items_2022`\n",
    "    WHERE customer_name != \"\"\n",
    "    GROUP BY customer_name, customer_id\n",
    "    ORDER BY gross_sales DESC\n",
    "\"\"\"\n",
    "\n",
    "customer_spend = pandas_gbq.read_gbq(query,project_id = gbq_proj_id)\n",
    "\n",
    "#customer_spend.head()"
   ]
  },
  {
   "cell_type": "code",
   "execution_count": 43,
   "id": "620774ce",
   "metadata": {},
   "outputs": [
    {
     "data": {
      "text/html": [
       "<div>\n",
       "<style scoped>\n",
       "    .dataframe tbody tr th:only-of-type {\n",
       "        vertical-align: middle;\n",
       "    }\n",
       "\n",
       "    .dataframe tbody tr th {\n",
       "        vertical-align: top;\n",
       "    }\n",
       "\n",
       "    .dataframe thead th {\n",
       "        text-align: right;\n",
       "    }\n",
       "</style>\n",
       "<table border=\"1\" class=\"dataframe\">\n",
       "  <thead>\n",
       "    <tr style=\"text-align: right;\">\n",
       "      <th></th>\n",
       "      <th>gross_sales</th>\n",
       "    </tr>\n",
       "  </thead>\n",
       "  <tbody>\n",
       "    <tr>\n",
       "      <th>count</th>\n",
       "      <td>14507.000000</td>\n",
       "    </tr>\n",
       "    <tr>\n",
       "      <th>mean</th>\n",
       "      <td>41.689854</td>\n",
       "    </tr>\n",
       "    <tr>\n",
       "      <th>std</th>\n",
       "      <td>94.357769</td>\n",
       "    </tr>\n",
       "    <tr>\n",
       "      <th>min</th>\n",
       "      <td>1.000000</td>\n",
       "    </tr>\n",
       "    <tr>\n",
       "      <th>25%</th>\n",
       "      <td>11.000000</td>\n",
       "    </tr>\n",
       "    <tr>\n",
       "      <th>50%</th>\n",
       "      <td>20.000000</td>\n",
       "    </tr>\n",
       "    <tr>\n",
       "      <th>75%</th>\n",
       "      <td>39.000000</td>\n",
       "    </tr>\n",
       "    <tr>\n",
       "      <th>max</th>\n",
       "      <td>2942.900000</td>\n",
       "    </tr>\n",
       "  </tbody>\n",
       "</table>\n",
       "</div>"
      ],
      "text/plain": [
       "        gross_sales\n",
       "count  14507.000000\n",
       "mean      41.689854\n",
       "std       94.357769\n",
       "min        1.000000\n",
       "25%       11.000000\n",
       "50%       20.000000\n",
       "75%       39.000000\n",
       "max     2942.900000"
      ]
     },
     "execution_count": 43,
     "metadata": {},
     "output_type": "execute_result"
    }
   ],
   "source": [
    "customer_spend.describe()"
   ]
  },
  {
   "cell_type": "markdown",
   "id": "8360a687",
   "metadata": {},
   "source": [
    "Finally I'll create a query that finds sales by day by category for a certain location, and stores the results in a dataframe."
   ]
  },
  {
   "cell_type": "code",
   "execution_count": 28,
   "id": "c00eb0f0",
   "metadata": {},
   "outputs": [
    {
     "name": "stderr",
     "output_type": "stream",
     "text": [
      "Downloading: 100%|██████████| 5550/5550 [00:00<00:00, 10127.06rows/s]\n"
     ]
    }
   ],
   "source": [
    "#write my query\n",
    "\n",
    "query1 = \"\"\"\n",
    "        SELECT date, category, sum(gross_sales) as gross_sales\n",
    "        FROM `msba-project-2022.dram_shop.dram_items_2022`\n",
    "        WHERE location = \"The Dram Shop Front St.\"\n",
    "        GROUP BY date,category\n",
    "    \n",
    "        \"\"\"\n",
    "\n",
    "#name my dataframe\n",
    "daily_category_sales = pandas_gbq.read_gbq(query1,project_id = gbq_proj_id)\n"
   ]
  },
  {
   "cell_type": "code",
   "execution_count": 29,
   "id": "ebfb01c2",
   "metadata": {},
   "outputs": [
    {
     "data": {
      "text/html": [
       "<div>\n",
       "<style scoped>\n",
       "    .dataframe tbody tr th:only-of-type {\n",
       "        vertical-align: middle;\n",
       "    }\n",
       "\n",
       "    .dataframe tbody tr th {\n",
       "        vertical-align: top;\n",
       "    }\n",
       "\n",
       "    .dataframe thead th {\n",
       "        text-align: right;\n",
       "    }\n",
       "</style>\n",
       "<table border=\"1\" class=\"dataframe\">\n",
       "  <thead>\n",
       "    <tr style=\"text-align: right;\">\n",
       "      <th></th>\n",
       "      <th>category</th>\n",
       "      <th>gross_sales</th>\n",
       "    </tr>\n",
       "  </thead>\n",
       "  <tbody>\n",
       "    <tr>\n",
       "      <th>0</th>\n",
       "      <td>F-IPA Draught</td>\n",
       "      <td>106691.75</td>\n",
       "    </tr>\n",
       "    <tr>\n",
       "      <th>1</th>\n",
       "      <td>F-Lagers/Pils/Wheat Draught</td>\n",
       "      <td>49730.00</td>\n",
       "    </tr>\n",
       "    <tr>\n",
       "      <th>2</th>\n",
       "      <td>F-Wine Draught</td>\n",
       "      <td>30619.75</td>\n",
       "    </tr>\n",
       "    <tr>\n",
       "      <th>3</th>\n",
       "      <td>F-Cider Draught</td>\n",
       "      <td>25524.25</td>\n",
       "    </tr>\n",
       "    <tr>\n",
       "      <th>4</th>\n",
       "      <td>F-Sour Draught</td>\n",
       "      <td>21662.00</td>\n",
       "    </tr>\n",
       "    <tr>\n",
       "      <th>5</th>\n",
       "      <td>F-Amber/Pale Draught</td>\n",
       "      <td>20298.50</td>\n",
       "    </tr>\n",
       "    <tr>\n",
       "      <th>6</th>\n",
       "      <td>F-Seasonal</td>\n",
       "      <td>16524.25</td>\n",
       "    </tr>\n",
       "    <tr>\n",
       "      <th>7</th>\n",
       "      <td>F-Porter/Stout Draught</td>\n",
       "      <td>13548.75</td>\n",
       "    </tr>\n",
       "    <tr>\n",
       "      <th>8</th>\n",
       "      <td>BTG Features!</td>\n",
       "      <td>10450.50</td>\n",
       "    </tr>\n",
       "    <tr>\n",
       "      <th>9</th>\n",
       "      <td>Kombucha</td>\n",
       "      <td>9671.50</td>\n",
       "    </tr>\n",
       "  </tbody>\n",
       "</table>\n",
       "</div>"
      ],
      "text/plain": [
       "                      category  gross_sales\n",
       "0                F-IPA Draught    106691.75\n",
       "1  F-Lagers/Pils/Wheat Draught     49730.00\n",
       "2               F-Wine Draught     30619.75\n",
       "3              F-Cider Draught     25524.25\n",
       "4               F-Sour Draught     21662.00\n",
       "5         F-Amber/Pale Draught     20298.50\n",
       "6                   F-Seasonal     16524.25\n",
       "7       F-Porter/Stout Draught     13548.75\n",
       "8                BTG Features!     10450.50\n",
       "9                     Kombucha      9671.50"
      ]
     },
     "execution_count": 29,
     "metadata": {},
     "output_type": "execute_result"
    }
   ],
   "source": [
    "category_summary = daily_category_sales.groupby('category').sum('gross_sales').nlargest(10,'gross_sales').reset_index()\n",
    "category_summary"
   ]
  },
  {
   "cell_type": "code",
   "execution_count": null,
   "id": "77ac4d06",
   "metadata": {},
   "outputs": [],
   "source": []
  }
 ],
 "metadata": {
  "kernelspec": {
   "display_name": "Python 3 (ipykernel)",
   "language": "python",
   "name": "python3"
  },
  "language_info": {
   "codemirror_mode": {
    "name": "ipython",
    "version": 3
   },
   "file_extension": ".py",
   "mimetype": "text/x-python",
   "name": "python",
   "nbconvert_exporter": "python",
   "pygments_lexer": "ipython3",
   "version": "3.9.13"
  }
 },
 "nbformat": 4,
 "nbformat_minor": 5
}
